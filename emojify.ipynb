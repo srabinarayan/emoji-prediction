{
 "cells": [
  {
   "cell_type": "code",
   "execution_count": 135,
   "metadata": {},
   "outputs": [],
   "source": [
    "import numpy as np\n",
    "import matplotlib.pyplot as plt\n",
    "from sklearn.metrics import confusion_matrix\n",
    "import seaborn as sns\n",
    "%matplotlib inline"
   ]
  },
  {
   "cell_type": "code",
   "execution_count": 88,
   "metadata": {},
   "outputs": [],
   "source": [
    "import emoji"
   ]
  },
  {
   "cell_type": "code",
   "execution_count": 89,
   "metadata": {},
   "outputs": [],
   "source": [
    "import pandas as  pd\n",
    "train = pd.read_csv('data/emojify/train_emoji.csv',names=[\"0\",\"1\",\"2\",\"3\"])\n",
    "test = pd.read_csv('data/emojify/test_emoji.csv',names=[\"0\",\"1\",\"2\",\"3\"])"
   ]
  },
  {
   "cell_type": "code",
   "execution_count": 90,
   "metadata": {},
   "outputs": [],
   "source": [
    "emoji_dictionary={0:\"\\u2764\\uFE0F\",1:\":baseball:\",2:\":smile:\",3:\":disappointed:\",4:\":fork_and_knife:\"}\n",
    "def convert_to_emoji(label):\n",
    "    return emoji.emojize(emoji_dictionary[label],use_aliases=True)"
   ]
  },
  {
   "cell_type": "code",
   "execution_count": 91,
   "metadata": {},
   "outputs": [],
   "source": [
    "def convert_to_one_hot(y,c):\n",
    "    y=np.eye(c)[y.reshape(-1)]\n",
    "    return y"
   ]
  },
  {
   "cell_type": "code",
   "execution_count": 92,
   "metadata": {},
   "outputs": [],
   "source": [
    "def read_glove_vecs(glove_file):\n",
    "    with open(glove_file,'r',encoding=\"utf8\") as f:\n",
    "        word_to_vec={}\n",
    "        word_to_index={}\n",
    "        index_to_word={}\n",
    "        word=set()\n",
    "        for line in f:\n",
    "            line=line.strip().split()\n",
    "            curr_word=line[0]\n",
    "            word.add(curr_word)\n",
    "            word_to_vec[curr_word]=np.array(line[1:],dtype=np.float64)\n",
    "        i=1\n",
    "        for w in sorted(word):\n",
    "            word_to_index[w]=i\n",
    "            index_to_word[i]=w\n",
    "            i=i+1\n",
    "    return  word_to_index,index_to_word,word_to_vec      "
   ]
  },
  {
   "cell_type": "code",
   "execution_count": 93,
   "metadata": {},
   "outputs": [],
   "source": [
    "def sentence_to_avg(sentence, word_to_vec_map):\n",
    "    # Step 1: Split sentence into list of lower case words (≈ 1 line)\n",
    "    words = sentence.lower().split()\n",
    "\n",
    "    # Initialize the average word vector, should have the same shape as your word vectors.\n",
    "    avg = np.zeros_like(word_to_vec_map[words[0]])\n",
    "    \n",
    "    # Step 2: average the word vectors. You can loop over the words in the list \"words\".\n",
    "    total = 0\n",
    "    for w in words:\n",
    "        total += word_to_vec_map[w]\n",
    "    avg = total/len(words)\n",
    "    \n",
    "    return avg"
   ]
  },
  {
   "cell_type": "code",
   "execution_count": 107,
   "metadata": {},
   "outputs": [],
   "source": [
    "def softmax(x):\n",
    "    e_x = np.exp(x - np.max(x))\n",
    "    return e_x / e_x.sum()"
   ]
  },
  {
   "cell_type": "code",
   "execution_count": 121,
   "metadata": {},
   "outputs": [],
   "source": [
    "def predict(X,y,W,b,word_to_vec_map):\n",
    "    m=X.shape[0]\n",
    "    prediction=np.zeros((m,1))\n",
    "    for i in range(m):\n",
    "        avg=sentence_to_avg(X[i],word_to_vec_map)\n",
    "        Z = np.dot(W, avg) + b\n",
    "        A = softmax(Z)\n",
    "        prediction[i] = np.argmax(A) \n",
    "    print(\"Accuracy: \"  + str(np.mean((prediction[:] == y.reshape(y.shape[0],1)[:]))))    \n",
    "    return prediction\n",
    "    "
   ]
  },
  {
   "cell_type": "code",
   "execution_count": 126,
   "metadata": {},
   "outputs": [],
   "source": [
    "def plot_confusion_matrix(y_actu, y_pred, title='Confusion matrix'):\n",
    "    \n",
    "    df_confusion = pd.crosstab(y_actu, y_pred.reshape(y_pred.shape[0],), rownames=['Actual'], colnames=['Predicted'], margins=True)\n",
    "    \n",
    "    df_conf_norm = df_confusion / df_confusion.sum(axis=1)\n",
    "    \n",
    "    plt.matshow(df_confusion) # imshow\n",
    "    #plt.title(title)\n",
    "    plt.colorbar()\n",
    "    tick_marks = np.arange(len(df_confusion.columns))\n",
    "    plt.xticks(tick_marks, df_confusion.columns, rotation=45)\n",
    "    plt.yticks(tick_marks, df_confusion.index)\n",
    "    #plt.tight_layout()\n",
    "    plt.ylabel(df_confusion.index.name)\n",
    "    plt.xlabel(df_confusion.columns.name)"
   ]
  },
  {
   "cell_type": "code",
   "execution_count": 117,
   "metadata": {},
   "outputs": [],
   "source": [
    "X_train=np.array(train.loc[:,\"0\"])\n",
    "y_train=np.array(train.loc[:,\"1\"])\n",
    "X_test=np.array(test.loc[:,\"0\"])\n",
    "y_test=np.array(test.loc[:,\"1\"])"
   ]
  },
  {
   "cell_type": "code",
   "execution_count": 96,
   "metadata": {},
   "outputs": [],
   "source": [
    "#find the maximum length of a string in X_train\n",
    "max_len_train=len(max(X_train,key=len).split())\n",
    "#find the maximum length of a string in X_test\n",
    "max_len_test=len(max(X_test,key=len).split())"
   ]
  },
  {
   "cell_type": "code",
   "execution_count": 97,
   "metadata": {},
   "outputs": [
    {
     "name": "stdout",
     "output_type": "stream",
     "text": [
      "never talk to me again 😞\n",
      "I am proud of your achievements 😄\n",
      "It is the worst day in my life 😞\n",
      "Miss you so much ❤️\n",
      "food is life 🍴\n",
      "I love you mum ❤️\n",
      "Stop saying bullshit 😞\n",
      "congratulations on your acceptance 😄\n",
      "The assignment is too long  😞\n",
      "I want to go play ⚾\n"
     ]
    }
   ],
   "source": [
    "#display  sentences from X_train and corresponding labels from Y_train.\n",
    "for idx in range(10):\n",
    "    print(X_train[idx], convert_to_emoji(y_train[idx]))"
   ]
  },
  {
   "cell_type": "code",
   "execution_count": 98,
   "metadata": {},
   "outputs": [],
   "source": [
    "y_oh_train = convert_to_one_hot(y_train, c= 5)\n",
    "y_oh_test = convert_to_one_hot(y_test, c = 5)"
   ]
  },
  {
   "cell_type": "code",
   "execution_count": 99,
   "metadata": {},
   "outputs": [
    {
     "name": "stdout",
     "output_type": "stream",
     "text": [
      "Sentence 'I missed you' has label index 1, which is emoji ⚾\n",
      "Label index 1 in one-hot encoding format is [0. 1. 0. 0. 0.]\n"
     ]
    }
   ],
   "source": [
    "idx = 25\n",
    "print(f\"Sentence '{X_train[50]}' has label index {y_train[idx]}, which is emoji {convert_to_emoji(y_train[idx])}\", )\n",
    "print(f\"Label index {y_train[idx]} in one-hot encoding format is {y_oh_train[idx]}\")"
   ]
  },
  {
   "cell_type": "code",
   "execution_count": 100,
   "metadata": {},
   "outputs": [],
   "source": [
    "word_to_index, index_to_word, word_to_vec_map = read_glove_vecs(r'C:\\Users\\RN7\\data\\emojify/glove.6B.50d.txt')"
   ]
  },
  {
   "cell_type": "code",
   "execution_count": 101,
   "metadata": {},
   "outputs": [
    {
     "name": "stdout",
     "output_type": "stream",
     "text": [
      "the index of fruit in the vocabulary is 154530\n",
      "the 289846th word in the vocabulary is potatos\n"
     ]
    }
   ],
   "source": [
    "word = \"fruit\"\n",
    "idx = 289846\n",
    "print(\"the index of\", word, \"in the vocabulary is\", word_to_index[word])\n",
    "print(\"the\", str(idx) + \"th word in the vocabulary is\", index_to_word[idx])"
   ]
  },
  {
   "cell_type": "markdown",
   "metadata": {},
   "source": [
    "## Baseline Model"
   ]
  },
  {
   "cell_type": "code",
   "execution_count": 118,
   "metadata": {},
   "outputs": [],
   "source": [
    "def model(X, Y, word_to_vec_map, learning_rate = 0.01, num_iterations = 400):\n",
    "    \n",
    "    np.random.seed(1)\n",
    "\n",
    "    m = Y.shape[0]                          # number of training examples\n",
    "    n_y = 5                                 # number of classes  \n",
    "    n_h = 50                                # dimensions of the GloVe vectors \n",
    "    \n",
    "    # Initialize parameters using Xavier initialization\n",
    "    W = np.random.randn(n_y, n_h) / np.sqrt(n_h)\n",
    "    b = np.zeros((n_y,))\n",
    "    \n",
    "    # Convert Y to Y_onehot with n_y classes\n",
    "    Y_oh = convert_to_one_hot(Y, c= n_y) \n",
    "    \n",
    "    # Optimization loop\n",
    "    for t in range(num_iterations): # Loop over the number of iterations\n",
    "        for i in range(m):          # Loop over the training examples\n",
    "            \n",
    "            # Average the word vectors of the words from the i'th training example\n",
    "            avg = sentence_to_avg(X[i], word_to_vec_map)\n",
    "\n",
    "            # Forward propagate the avg through the softmax layer\n",
    "            z = np.dot(W,avg)+b\n",
    "            a = softmax(z)\n",
    "\n",
    "            # Compute cost using the i'th training label's one hot representation and \"A\" (the output of the softmax)\n",
    "            cost = -np.sum(np.dot(Y_oh[i],np.log(a)))\n",
    "            ### END CODE HERE ###\n",
    "            \n",
    "            # Compute gradients \n",
    "            dz = a - Y_oh[i]\n",
    "            dW = np.dot(dz.reshape(n_y,1), avg.reshape(1, n_h))\n",
    "            db = dz\n",
    "\n",
    "            # Update parameters with Stochastic Gradient Descent\n",
    "            W = W - learning_rate * dW\n",
    "            b = b - learning_rate * db\n",
    "        \n",
    "        if t % 100 == 0:\n",
    "            print(\"Epoch: \" + str(t) + \" --- cost = \" + str(cost))\n",
    "            pred = predict(X, Y, W, b, word_to_vec_map) #predict is defined in emo_utils.py\n",
    "\n",
    "    return pred, W, b"
   ]
  },
  {
   "cell_type": "code",
   "execution_count": 122,
   "metadata": {},
   "outputs": [
    {
     "name": "stdout",
     "output_type": "stream",
     "text": [
      "Epoch: 0 --- cost = 1.9520498812810072\n",
      "Accuracy: 0.3484848484848485\n",
      "Epoch: 100 --- cost = 0.07971818726014807\n",
      "Accuracy: 0.9318181818181818\n",
      "Epoch: 200 --- cost = 0.04456369243681402\n",
      "Accuracy: 0.9545454545454546\n",
      "Epoch: 300 --- cost = 0.03432267378786059\n",
      "Accuracy: 0.9696969696969697\n",
      "[[3.]\n",
      " [2.]\n",
      " [3.]\n",
      " [0.]\n",
      " [4.]\n",
      " [0.]\n",
      " [3.]\n",
      " [2.]\n",
      " [3.]\n",
      " [1.]\n",
      " [3.]\n",
      " [3.]\n",
      " [1.]\n",
      " [3.]\n",
      " [2.]\n",
      " [3.]\n",
      " [2.]\n",
      " [3.]\n",
      " [1.]\n",
      " [2.]\n",
      " [3.]\n",
      " [0.]\n",
      " [2.]\n",
      " [2.]\n",
      " [2.]\n",
      " [1.]\n",
      " [4.]\n",
      " [3.]\n",
      " [3.]\n",
      " [4.]\n",
      " [0.]\n",
      " [3.]\n",
      " [4.]\n",
      " [2.]\n",
      " [0.]\n",
      " [3.]\n",
      " [2.]\n",
      " [2.]\n",
      " [3.]\n",
      " [4.]\n",
      " [2.]\n",
      " [2.]\n",
      " [0.]\n",
      " [2.]\n",
      " [3.]\n",
      " [0.]\n",
      " [3.]\n",
      " [2.]\n",
      " [4.]\n",
      " [3.]\n",
      " [0.]\n",
      " [3.]\n",
      " [3.]\n",
      " [3.]\n",
      " [4.]\n",
      " [2.]\n",
      " [1.]\n",
      " [1.]\n",
      " [1.]\n",
      " [2.]\n",
      " [3.]\n",
      " [1.]\n",
      " [0.]\n",
      " [0.]\n",
      " [0.]\n",
      " [3.]\n",
      " [4.]\n",
      " [4.]\n",
      " [2.]\n",
      " [2.]\n",
      " [1.]\n",
      " [2.]\n",
      " [0.]\n",
      " [3.]\n",
      " [2.]\n",
      " [2.]\n",
      " [0.]\n",
      " [3.]\n",
      " [3.]\n",
      " [1.]\n",
      " [2.]\n",
      " [1.]\n",
      " [2.]\n",
      " [2.]\n",
      " [4.]\n",
      " [3.]\n",
      " [3.]\n",
      " [2.]\n",
      " [4.]\n",
      " [0.]\n",
      " [0.]\n",
      " [3.]\n",
      " [3.]\n",
      " [3.]\n",
      " [3.]\n",
      " [2.]\n",
      " [0.]\n",
      " [1.]\n",
      " [2.]\n",
      " [3.]\n",
      " [0.]\n",
      " [2.]\n",
      " [2.]\n",
      " [2.]\n",
      " [3.]\n",
      " [2.]\n",
      " [2.]\n",
      " [2.]\n",
      " [4.]\n",
      " [1.]\n",
      " [1.]\n",
      " [3.]\n",
      " [3.]\n",
      " [4.]\n",
      " [1.]\n",
      " [2.]\n",
      " [1.]\n",
      " [1.]\n",
      " [3.]\n",
      " [1.]\n",
      " [0.]\n",
      " [4.]\n",
      " [0.]\n",
      " [3.]\n",
      " [3.]\n",
      " [4.]\n",
      " [4.]\n",
      " [1.]\n",
      " [4.]\n",
      " [3.]\n",
      " [0.]\n",
      " [2.]]\n"
     ]
    }
   ],
   "source": [
    "pred, W, b = model(X_train, y_train, word_to_vec_map)\n",
    "print(pred)"
   ]
  },
  {
   "cell_type": "code",
   "execution_count": 123,
   "metadata": {},
   "outputs": [
    {
     "name": "stdout",
     "output_type": "stream",
     "text": [
      "Training set:\n",
      "Accuracy: 0.9772727272727273\n",
      "Test set:\n",
      "Accuracy: 0.8571428571428571\n"
     ]
    }
   ],
   "source": [
    "print(\"Training set:\")\n",
    "pred_train = predict(X_train, y_train, W, b, word_to_vec_map)\n",
    "print('Test set:')\n",
    "pred_test = predict(X_test, y_test, W, b, word_to_vec_map)"
   ]
  },
  {
   "cell_type": "code",
   "execution_count": 141,
   "metadata": {},
   "outputs": [
    {
     "name": "stdout",
     "output_type": "stream",
     "text": [
      "confusion matrix is given below:\n"
     ]
    },
    {
     "data": {
      "image/png": "[encoded data removed]",
      "text/plain": [
       "<Figure size 432x288 with 2 Axes>"
      ]
     },
     "metadata": {
      "needs_background": "light"
     },
     "output_type": "display_data"
    },
    {
     "name": "stdout",
     "output_type": "stream",
     "text": [
      "           ❤️    ⚾    😄    😞   🍴\n"
     ]
    }
   ],
   "source": [
    "#confusion matrix of Random forest Classifier\n",
    "print(\"confusion matrix is given below:\")\n",
    "matrix=confusion_matrix(y_test,pred_test)\n",
    "sns.heatmap(matrix, annot=True, fmt='.2f')\n",
    "plt.ylabel('True class')\n",
    "plt.xlabel('Predicted class')\n",
    "plt.show()\n",
    "print('           '+ convert_to_emoji(0)+ '    ' + convert_to_emoji(1) + '    ' +  convert_to_emoji(2)+ '    ' + convert_to_emoji(3)+'   ' + convert_to_emoji(4))"
   ]
  },
  {
   "cell_type": "markdown",
   "metadata": {},
   "source": [
    "## Model using LSTM"
   ]
  },
  {
   "cell_type": "code",
   "execution_count": 142,
   "metadata": {},
   "outputs": [
    {
     "name": "stderr",
     "output_type": "stream",
     "text": [
      "Using TensorFlow backend.\n"
     ]
    }
   ],
   "source": [
    "np.random.seed(0)\n",
    "from keras.models import Model\n",
    "from keras.layers import Dense, Input, Dropout, LSTM, Activation\n",
    "from keras.layers.embeddings import Embedding\n",
    "from keras.preprocessing import sequence\n",
    "from keras.initializers import glorot_uniform\n",
    "np.random.seed(1)"
   ]
  },
  {
   "cell_type": "code",
   "execution_count": 143,
   "metadata": {},
   "outputs": [],
   "source": [
    "def sentences_to_indices(X, word_to_index, max_len):\n",
    "    \n",
    "    m = X.shape[0]                                   #\n",
    "    X_indices = np.zeros((m,max_len))\n",
    "    \n",
    "    for i in range(m):                              \n",
    "        \n",
    "        sentence_words = [i.lower() for i in X[i].split()]\n",
    "        \n",
    "        j = 0\n",
    "        \n",
    "       \n",
    "        for w in sentence_words:\n",
    "            X_indices[i, j] = word_to_index[w]\n",
    "            j = j+1\n",
    "            \n",
    "    \n",
    "    return X_indices"
   ]
  },
  {
   "cell_type": "code",
   "execution_count": 144,
   "metadata": {},
   "outputs": [],
   "source": [
    "def pretrained_embedding_layer(word_to_vec_map, word_to_index):\n",
    "    \n",
    "    vocab_len = len(word_to_index) + 1                 # extra 1 for unknown word \n",
    "    emb_dim = word_to_vec_map[\"cucumber\"].shape[0]      # define dimensionality of your GloVe word vectors (= 50)\n",
    "    emb_matrix = np.zeros((vocab_len,emb_dim))\n",
    "    for word, idx in word_to_index.items():\n",
    "        emb_matrix[idx, :] = word_to_vec_map[word]\n",
    "    # Define Keras embedding layer with the correct input and output sizes\n",
    "    # Make it non-trainable.\n",
    "    embedding_layer = Embedding(vocab_len,emb_dim)\n",
    "\n",
    "    # Build the embedding layer, it is required before setting the weights of the embedding layer. \n",
    "    embedding_layer.build((None,)) #  \"None\".is for non_trainable\n",
    "    \n",
    "    # Set the weights of the embedding layer to the embedding matrix. Your layer is now pretrained.\n",
    "    embedding_layer.set_weights([emb_matrix])\n",
    "    \n",
    "    return embedding_layer"
   ]
  },
  {
   "cell_type": "markdown",
   "metadata": {},
   "source": [
    "#### Build embedding layer\n",
    "\n",
    "* Let's build the `Embedding()` layer in Keras, using pre-trained word vectors. \n",
    "* The embedding layer takes as input a list of word indices.\n",
    "    * `sentences_to_indices()` creates these word indices.\n",
    "* The embedding layer will return the word embeddings for a sentence. \n",
    "\n",
    "**Exercise**: Implement `pretrained_embedding_layer()` with these steps:\n",
    "1. Initialize the embedding matrix as a numpy array of zeros.\n",
    "    * The embedding matrix has a row for each unique word in the vocabulary.\n",
    "        * There is one additional row to handle \"unknown\" words.\n",
    "        * So vocab_len is the number of unique words plus one.\n",
    "    * Each row will store the vector representation of one word. \n",
    "        * For example, one row may be 50 positions long if using GloVe word vectors.\n",
    "    * In the code below, `emb_dim` represents the length of a word embedding.\n",
    "2. Fill in each row of the embedding matrix with the vector representation of a word\n",
    "    * Each word in `word_to_index` is a string.\n",
    "    * word_to_vec_map is a dictionary where the keys are strings and the values are the word vectors.\n",
    "3. Define the Keras embedding layer. \n",
    "    * Use [Embedding()](https://keras.io/layers/embeddings/). \n",
    "    * The input dimension is equal to the vocabulary length (number of unique words plus one).\n",
    "    * The output dimension is equal to the number of positions in a word embedding.\n",
    "    * Make this layer's embeddings fixed.\n",
    "        * If you were to set `trainable = True`, then it will allow the optimization algorithm to modify the values of the word embeddings.\n",
    "        * In this case, we don't want the model to modify the word embeddings.\n",
    "4. Set the embedding weights to be equal to the embedding matrix.\n",
    "    * Note that this is part of the code is already completed for you and does not need to be modified. "
   ]
  },
  {
   "cell_type": "code",
   "execution_count": 171,
   "metadata": {},
   "outputs": [],
   "source": [
    "def Emojify(input_shape, word_to_vec_map, word_to_index):\n",
    "    \n",
    "    sentence_indices = Input(input_shape, dtype='int32')\n",
    "    \n",
    "    embedding_layer = pretrained_embedding_layer(word_to_vec_map, word_to_index)\n",
    "    \n",
    "    embeddings = embedding_layer(sentence_indices)  \n",
    "    \n",
    "    X = LSTM(128, return_sequences = True)(embeddings)\n",
    "\n",
    "    X = Dropout(0.5)(X)\n",
    "   \n",
    "    X = LSTM(128, return_sequences=False)(X)\n",
    " \n",
    "    X = Dropout(0.5)(X)\n",
    " \n",
    "    X = Dense(5)(X)\n",
    "    \n",
    "    X = Activation('softmax')(X)\n",
    "    \n",
    "    # Create Model instance which converts sentence_indices into X.\n",
    "    model = Model(inputs=sentence_indices, outputs=X)\n",
    "    \n",
    "    ### END CODE HERE ###\n",
    "    \n",
    "    return model"
   ]
  },
  {
   "cell_type": "code",
   "execution_count": 177,
   "metadata": {},
   "outputs": [
    {
     "name": "stdout",
     "output_type": "stream",
     "text": [
      "Model: \"model_3\"\n",
      "_________________________________________________________________\n",
      "Layer (type)                 Output Shape              Param #   \n",
      "=================================================================\n",
      "input_3 (InputLayer)         (None, 10)                0         \n",
      "_________________________________________________________________\n",
      "embedding_3 (Embedding)      (None, 10, 50)            20000050  \n",
      "_________________________________________________________________\n",
      "lstm_5 (LSTM)                (None, 10, 128)           91648     \n",
      "_________________________________________________________________\n",
      "dropout_5 (Dropout)          (None, 10, 128)           0         \n",
      "_________________________________________________________________\n",
      "lstm_6 (LSTM)                (None, 128)               131584    \n",
      "_________________________________________________________________\n",
      "dropout_6 (Dropout)          (None, 128)               0         \n",
      "_________________________________________________________________\n",
      "dense_3 (Dense)              (None, 5)                 645       \n",
      "_________________________________________________________________\n",
      "activation_3 (Activation)    (None, 5)                 0         \n",
      "=================================================================\n",
      "Total params: 20,223,927\n",
      "Trainable params: 20,223,927\n",
      "Non-trainable params: 0\n",
      "_________________________________________________________________\n"
     ]
    }
   ],
   "source": [
    "model = Emojify((max_len_train,), word_to_vec_map, word_to_index)\n",
    "model.summary()"
   ]
  },
  {
   "cell_type": "code",
   "execution_count": 178,
   "metadata": {},
   "outputs": [],
   "source": [
    "model.compile(loss='categorical_crossentropy', optimizer='adam', metrics=['accuracy'])"
   ]
  },
  {
   "cell_type": "code",
   "execution_count": 179,
   "metadata": {},
   "outputs": [
    {
     "name": "stderr",
     "output_type": "stream",
     "text": [
      "C:\\Users\\RN7\\Anaconda3\\envs\\tensorflow\\lib\\site-packages\\tensorflow_core\\python\\framework\\indexed_slices.py:433: UserWarning: Converting sparse IndexedSlices to a dense Tensor of unknown shape. This may consume a large amount of memory.\n",
      "  \"Converting sparse IndexedSlices to a dense Tensor of unknown shape. \"\n"
     ]
    },
    {
     "name": "stdout",
     "output_type": "stream",
     "text": [
      "Epoch 1/50\n",
      "132/132 [==============================] - 3s 26ms/step - loss: 1.5914 - accuracy: 0.2803\n",
      "Epoch 2/50\n",
      "132/132 [==============================] - 3s 20ms/step - loss: 1.5306 - accuracy: 0.3030\n",
      "Epoch 3/50\n",
      "132/132 [==============================] - 3s 20ms/step - loss: 1.4706 - accuracy: 0.3712\n",
      "Epoch 4/50\n",
      "132/132 [==============================] - 3s 20ms/step - loss: 1.4318 - accuracy: 0.4470\n",
      "Epoch 5/50\n",
      "132/132 [==============================] - 3s 19ms/step - loss: 1.2990 - accuracy: 0.5758\n",
      "Epoch 6/50\n",
      "132/132 [==============================] - 3s 21ms/step - loss: 1.1853 - accuracy: 0.5833\n",
      "Epoch 7/50\n",
      "132/132 [==============================] - 3s 20ms/step - loss: 1.0255 - accuracy: 0.6439\n",
      "Epoch 8/50\n",
      "132/132 [==============================] - 3s 19ms/step - loss: 0.8645 - accuracy: 0.6818\n",
      "Epoch 9/50\n",
      "132/132 [==============================] - 3s 21ms/step - loss: 0.8270 - accuracy: 0.6970\n",
      "Epoch 10/50\n",
      "132/132 [==============================] - 3s 20ms/step - loss: 0.6487 - accuracy: 0.8182\n",
      "Epoch 11/50\n",
      "132/132 [==============================] - 3s 20ms/step - loss: 0.5897 - accuracy: 0.8106\n",
      "Epoch 12/50\n",
      "132/132 [==============================] - 3s 19ms/step - loss: 0.4600 - accuracy: 0.8409\n",
      "Epoch 13/50\n",
      "132/132 [==============================] - 2s 16ms/step - loss: 0.3658 - accuracy: 0.8712\n",
      "Epoch 14/50\n",
      "132/132 [==============================] - 2s 14ms/step - loss: 0.3459 - accuracy: 0.9015\n",
      "Epoch 15/50\n",
      "132/132 [==============================] - 3s 19ms/step - loss: 0.3361 - accuracy: 0.8636\n",
      "Epoch 16/50\n",
      "132/132 [==============================] - 3s 20ms/step - loss: 0.7635 - accuracy: 0.7576\n",
      "Epoch 17/50\n",
      "132/132 [==============================] - 3s 19ms/step - loss: 0.6602 - accuracy: 0.7879\n",
      "Epoch 18/50\n",
      "132/132 [==============================] - 3s 20ms/step - loss: 0.4176 - accuracy: 0.8258\n",
      "Epoch 19/50\n",
      "132/132 [==============================] - 3s 21ms/step - loss: 0.4760 - accuracy: 0.8333\n",
      "Epoch 20/50\n",
      "132/132 [==============================] - 3s 19ms/step - loss: 0.3228 - accuracy: 0.9091\n",
      "Epoch 21/50\n",
      "132/132 [==============================] - 3s 20ms/step - loss: 0.2848 - accuracy: 0.8939\n",
      "Epoch 22/50\n",
      "132/132 [==============================] - 3s 19ms/step - loss: 0.2488 - accuracy: 0.9394\n",
      "Epoch 23/50\n",
      "132/132 [==============================] - 3s 20ms/step - loss: 0.2473 - accuracy: 0.9091\n",
      "Epoch 24/50\n",
      "132/132 [==============================] - 3s 20ms/step - loss: 0.1519 - accuracy: 0.9621\n",
      "Epoch 25/50\n",
      "132/132 [==============================] - 3s 19ms/step - loss: 0.1644 - accuracy: 0.9470\n",
      "Epoch 26/50\n",
      "132/132 [==============================] - 2s 13ms/step - loss: 0.0778 - accuracy: 0.9848\n",
      "Epoch 27/50\n",
      "132/132 [==============================] - 2s 17ms/step - loss: 0.0862 - accuracy: 0.9773\n",
      "Epoch 28/50\n",
      "132/132 [==============================] - 3s 21ms/step - loss: 0.0669 - accuracy: 0.9848\n",
      "Epoch 29/50\n",
      "132/132 [==============================] - 3s 20ms/step - loss: 0.0297 - accuracy: 1.0000\n",
      "Epoch 30/50\n",
      "132/132 [==============================] - 2s 16ms/step - loss: 0.0352 - accuracy: 0.9924\n",
      "Epoch 31/50\n",
      "132/132 [==============================] - 2s 17ms/step - loss: 0.0229 - accuracy: 1.0000\n",
      "Epoch 32/50\n",
      "132/132 [==============================] - 3s 20ms/step - loss: 0.0563 - accuracy: 0.9773\n",
      "Epoch 33/50\n",
      "132/132 [==============================] - 3s 21ms/step - loss: 0.0171 - accuracy: 1.0000\n",
      "Epoch 34/50\n",
      "132/132 [==============================] - 2s 17ms/step - loss: 0.0244 - accuracy: 0.9924\n",
      "Epoch 35/50\n",
      "132/132 [==============================] - 2s 15ms/step - loss: 0.0204 - accuracy: 0.9924\n",
      "Epoch 36/50\n",
      "132/132 [==============================] - 3s 21ms/step - loss: 0.0104 - accuracy: 1.0000\n",
      "Epoch 37/50\n",
      "132/132 [==============================] - 3s 21ms/step - loss: 0.0097 - accuracy: 1.0000\n",
      "Epoch 38/50\n",
      "132/132 [==============================] - 3s 22ms/step - loss: 0.0069 - accuracy: 1.0000\n",
      "Epoch 39/50\n",
      "132/132 [==============================] - 2s 18ms/step - loss: 0.0064 - accuracy: 1.0000\n",
      "Epoch 40/50\n",
      "132/132 [==============================] - 2s 14ms/step - loss: 0.0052 - accuracy: 1.0000\n",
      "Epoch 41/50\n",
      "132/132 [==============================] - 3s 21ms/step - loss: 0.0056 - accuracy: 1.0000\n",
      "Epoch 42/50\n",
      "132/132 [==============================] - 2s 17ms/step - loss: 0.0045 - accuracy: 1.0000\n",
      "Epoch 43/50\n",
      "132/132 [==============================] - 2s 16ms/step - loss: 0.0037 - accuracy: 1.0000\n",
      "Epoch 44/50\n",
      "132/132 [==============================] - 3s 21ms/step - loss: 0.0052 - accuracy: 1.0000\n",
      "Epoch 45/50\n",
      "132/132 [==============================] - 2s 13ms/step - loss: 0.0038 - accuracy: 1.0000\n",
      "Epoch 46/50\n",
      "132/132 [==============================] - 2s 19ms/step - loss: 0.0043 - accuracy: 1.0000\n",
      "Epoch 47/50\n",
      "132/132 [==============================] - 3s 21ms/step - loss: 0.0034 - accuracy: 1.0000\n",
      "Epoch 48/50\n",
      "132/132 [==============================] - 3s 21ms/step - loss: 0.0034 - accuracy: 1.0000\n",
      "Epoch 49/50\n",
      "132/132 [==============================] - 3s 24ms/step - loss: 0.0034 - accuracy: 1.0000\n",
      "Epoch 50/50\n",
      "132/132 [==============================] - 3s 22ms/step - loss: 0.0039 - accuracy: 1.0000\n"
     ]
    },
    {
     "data": {
      "text/plain": [
       "<keras.callbacks.callbacks.History at 0x28e83a5c848>"
      ]
     },
     "execution_count": 179,
     "metadata": {},
     "output_type": "execute_result"
    }
   ],
   "source": [
    "X_train_indices = sentences_to_indices(X_train, word_to_index, max_len_train)\n",
    "Y_train_oh = convert_to_one_hot(y_train, c= 5)\n",
    "model.fit(X_train_indices, Y_train_oh, epochs = 50, batch_size = 32, shuffle=True)"
   ]
  },
  {
   "cell_type": "code",
   "execution_count": 180,
   "metadata": {},
   "outputs": [
    {
     "name": "stdout",
     "output_type": "stream",
     "text": [
      "56/56 [==============================] - 0s 4ms/step\n",
      "\n",
      "Test accuracy =  0.8928571343421936\n"
     ]
    }
   ],
   "source": [
    "X_test_indices = sentences_to_indices(X_test, word_to_index, max_len=max_len_train)\n",
    "Y_test_oh = convert_to_one_hot(y_test, c= 5)\n",
    "loss, acc = model.evaluate(X_test_indices, Y_test_oh)\n",
    "print()\n",
    "print(\"Test accuracy = \", acc)"
   ]
  },
  {
   "cell_type": "code",
   "execution_count": 181,
   "metadata": {},
   "outputs": [
    {
     "name": "stdout",
     "output_type": "stream",
     "text": [
      "Expected emoji:😞 prediction: work is hard\t😄\n",
      "Expected emoji:😞 prediction: This girl is messing with me\t❤️\n",
      "Expected emoji:🍴 prediction: any suggestions for dinner\t😄\n",
      "Expected emoji:😄 prediction: you brighten my day\t😞\n",
      "Expected emoji:😞 prediction: she is a bully\t❤️\n",
      "Expected emoji:🍴 prediction: I did not have breakfast 😞\n"
     ]
    }
   ],
   "source": [
    "# This code allows you to see the mislabelled examples\n",
    "C = 5\n",
    "y_test_oh = np.eye(C)[y_test.reshape(-1)]\n",
    "X_test_indices = sentences_to_indices(X_test, word_to_index, max_len_train)\n",
    "pred = model.predict(X_test_indices)\n",
    "for i in range(len(X_test)):\n",
    "    x = X_test_indices\n",
    "    num = np.argmax(pred[i])\n",
    "    if(num != y_test[i]):\n",
    "        print('Expected emoji:'+ convert_to_emoji(y_test[i]) + ' prediction: '+ X_test[i] + convert_to_emoji(num).strip())"
   ]
  },
  {
   "cell_type": "code",
   "execution_count": 194,
   "metadata": {},
   "outputs": [
    {
     "name": "stdout",
     "output_type": "stream",
     "text": [
      "Congratulations We hope you are  happy  for accomplishment ! 😄\n"
     ]
    }
   ],
   "source": [
    "# Change the sentence below to see your prediction. Make sure all the words are in the Glove embeddings.  \n",
    "x_test = np.array([\"Congratulations We hope you are  happy  for accomplishment !\"])\n",
    "X_test_indices = sentences_to_indices(x_test, word_to_index, max_len_train)\n",
    "print(x_test[0] +' '+  convert_to_emoji(np.argmax(model.predict(X_test_indices))))"
   ]
  },
  {
   "cell_type": "code",
   "execution_count": null,
   "metadata": {},
   "outputs": [],
   "source": []
  }
 ],
 "metadata": {
  "kernelspec": {
   "display_name": "Python 3",
   "language": "python",
   "name": "python3"
  },
  "language_info": {
   "codemirror_mode": {
    "name": "ipython",
    "version": 3
   },
   "file_extension": ".py",
   "mimetype": "text/x-python",
   "name": "python",
   "nbconvert_exporter": "python",
   "pygments_lexer": "ipython3",
   "version": "3.7.0"
  }
 },
 "nbformat": 4,
 "nbformat_minor": 4
}
